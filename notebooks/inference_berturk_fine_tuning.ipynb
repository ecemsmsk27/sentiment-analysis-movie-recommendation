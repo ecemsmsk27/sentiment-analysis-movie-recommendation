{
  "nbformat": 4,
  "nbformat_minor": 0,
  "metadata": {
    "colab": {
      "provenance": [],
      "machine_shape": "hm",
      "gpuType": "A100",
      "authorship_tag": "ABX9TyP5X1OESrEPFMojiTvKZ+Zd"
    },
    "kernelspec": {
      "name": "python3",
      "display_name": "Python 3"
    },
    "language_info": {
      "name": "python"
    },
    "accelerator": "GPU"
  },
  "cells": [
    {
      "cell_type": "code",
      "source": [
        "!pip install --upgrade transformers"
      ],
      "metadata": {
        "colab": {
          "base_uri": "https://localhost:8080/"
        },
        "id": "ThySZr4YBylr",
        "outputId": "63e92257-4192-4792-db70-ae01614697be"
      },
      "execution_count": 3,
      "outputs": [
        {
          "output_type": "stream",
          "name": "stdout",
          "text": [
            "Requirement already satisfied: transformers in /usr/local/lib/python3.11/dist-packages (4.51.3)\n",
            "Requirement already satisfied: filelock in /usr/local/lib/python3.11/dist-packages (from transformers) (3.18.0)\n",
            "Requirement already satisfied: huggingface-hub<1.0,>=0.30.0 in /usr/local/lib/python3.11/dist-packages (from transformers) (0.30.2)\n",
            "Requirement already satisfied: numpy>=1.17 in /usr/local/lib/python3.11/dist-packages (from transformers) (2.0.2)\n",
            "Requirement already satisfied: packaging>=20.0 in /usr/local/lib/python3.11/dist-packages (from transformers) (24.2)\n",
            "Requirement already satisfied: pyyaml>=5.1 in /usr/local/lib/python3.11/dist-packages (from transformers) (6.0.2)\n",
            "Requirement already satisfied: regex!=2019.12.17 in /usr/local/lib/python3.11/dist-packages (from transformers) (2024.11.6)\n",
            "Requirement already satisfied: requests in /usr/local/lib/python3.11/dist-packages (from transformers) (2.32.3)\n",
            "Requirement already satisfied: tokenizers<0.22,>=0.21 in /usr/local/lib/python3.11/dist-packages (from transformers) (0.21.1)\n",
            "Requirement already satisfied: safetensors>=0.4.3 in /usr/local/lib/python3.11/dist-packages (from transformers) (0.5.3)\n",
            "Requirement already satisfied: tqdm>=4.27 in /usr/local/lib/python3.11/dist-packages (from transformers) (4.67.1)\n",
            "Requirement already satisfied: fsspec>=2023.5.0 in /usr/local/lib/python3.11/dist-packages (from huggingface-hub<1.0,>=0.30.0->transformers) (2025.3.0)\n",
            "Requirement already satisfied: typing-extensions>=3.7.4.3 in /usr/local/lib/python3.11/dist-packages (from huggingface-hub<1.0,>=0.30.0->transformers) (4.13.2)\n",
            "Requirement already satisfied: charset-normalizer<4,>=2 in /usr/local/lib/python3.11/dist-packages (from requests->transformers) (3.4.1)\n",
            "Requirement already satisfied: idna<4,>=2.5 in /usr/local/lib/python3.11/dist-packages (from requests->transformers) (3.10)\n",
            "Requirement already satisfied: urllib3<3,>=1.21.1 in /usr/local/lib/python3.11/dist-packages (from requests->transformers) (2.4.0)\n",
            "Requirement already satisfied: certifi>=2017.4.17 in /usr/local/lib/python3.11/dist-packages (from requests->transformers) (2025.4.26)\n"
          ]
        }
      ]
    },
    {
      "cell_type": "code",
      "source": [
        "print(transformers.__version__)"
      ],
      "metadata": {
        "colab": {
          "base_uri": "https://localhost:8080/"
        },
        "id": "YCPM5y1KCq1P",
        "outputId": "40d097eb-8bdd-4304-81ab-a5a7904b930b"
      },
      "execution_count": 6,
      "outputs": [
        {
          "output_type": "stream",
          "name": "stdout",
          "text": [
            "4.51.3\n"
          ]
        }
      ]
    },
    {
      "cell_type": "code",
      "source": [
        "import pandas as pd\n",
        "import numpy as np\n",
        "import transformers\n",
        "import torch\n",
        "from datasets import Dataset\n",
        "from transformers import AutoTokenizer, AutoModelForSequenceClassification, Trainer, TrainingArguments\n",
        "from sklearn.preprocessing import LabelEncoder\n",
        "from sklearn.metrics import classification_report, accuracy_score"
      ],
      "metadata": {
        "id": "RiJbK7UQArDm"
      },
      "execution_count": 5,
      "outputs": []
    },
    {
      "cell_type": "code",
      "source": [
        "train_df = pd.read_csv(\"/content/processed_egitim_verisi.csv\")\n",
        "label_encoder = LabelEncoder()\n",
        "train_df['label_id'] = label_encoder.fit_transform(train_df['label'])"
      ],
      "metadata": {
        "id": "t-Cvlv2NBHcW"
      },
      "execution_count": 7,
      "outputs": []
    },
    {
      "cell_type": "code",
      "source": [
        "model_name = \"dbmdz/bert-base-turkish-cased\"\n",
        "tokenizer = AutoTokenizer.from_pretrained(model_name)"
      ],
      "metadata": {
        "id": "eINvHiLLBU0n"
      },
      "execution_count": 8,
      "outputs": []
    },
    {
      "cell_type": "code",
      "source": [
        "def tokenize(batch):\n",
        "    tokens = tokenizer(batch['comment'], padding=True, truncation=True, max_length=256)\n",
        "    tokens[\"labels\"] = batch[\"label_id\"]\n",
        "    return tokens\n",
        "\n",
        "dataset = Dataset.from_pandas(train_df[['comment', 'label_id']])\n",
        "dataset = dataset.train_test_split(test_size=0.2, seed=42)\n",
        "dataset = dataset.map(tokenize, batched=True)"
      ],
      "metadata": {
        "id": "uU99XGjwBX7b"
      },
      "execution_count": null,
      "outputs": []
    },
    {
      "cell_type": "code",
      "source": [
        "model = AutoModelForSequenceClassification.from_pretrained(model_name, num_labels=len(label_encoder.classes_))"
      ],
      "metadata": {
        "id": "_xgGxcIyBc3E"
      },
      "execution_count": null,
      "outputs": []
    },
    {
      "cell_type": "code",
      "source": [
        "training_args = TrainingArguments(\n",
        "    output_dir=\"./results\",\n",
        "    num_train_epochs=5,\n",
        "    per_device_train_batch_size=16,\n",
        "    per_device_eval_batch_size=16,\n",
        "    logging_dir=\"./logs\",\n",
        ")\n",
        "\n",
        "def compute_metrics(eval_pred):\n",
        "    logits, labels = eval_pred\n",
        "    predictions = np.argmax(logits, axis=-1)\n",
        "    return {\"accuracy\": accuracy_score(labels, predictions)}\n",
        "\n",
        "trainer = Trainer(\n",
        "    model=model,\n",
        "    args=training_args,\n",
        "    train_dataset=dataset[\"train\"],\n",
        "    eval_dataset=dataset[\"test\"],\n",
        "    compute_metrics=compute_metrics,\n",
        ")"
      ],
      "metadata": {
        "id": "TxOmnQGTBh_5"
      },
      "execution_count": 16,
      "outputs": []
    },
    {
      "cell_type": "code",
      "source": [
        "trainer.train()"
      ],
      "metadata": {
        "id": "bdPIHcEYCRal"
      },
      "execution_count": null,
      "outputs": []
    },
    {
      "cell_type": "code",
      "source": [
        "preds = trainer.predict(dataset['test'])\n",
        "y_pred = np.argmax(preds.predictions, axis=1)\n",
        "print(classification_report(dataset['test']['label_id'], y_pred, target_names=label_encoder.classes_))"
      ],
      "metadata": {
        "colab": {
          "base_uri": "https://localhost:8080/",
          "height": 225
        },
        "id": "rPgRvBbpHFqM",
        "outputId": "7376e3ee-8ba8-4cee-bd0e-5d903049871e"
      },
      "execution_count": 18,
      "outputs": [
        {
          "output_type": "display_data",
          "data": {
            "text/plain": [
              "<IPython.core.display.HTML object>"
            ],
            "text/html": []
          },
          "metadata": {}
        },
        {
          "output_type": "stream",
          "name": "stdout",
          "text": [
            "                        precision    recall  f1-score   support\n",
            "\n",
            "              basyapit       0.87      0.84      0.86        81\n",
            "beklentiyi_karsilamadi       0.82      0.73      0.77       104\n",
            "        izlemeye_deger       0.76      0.78      0.77        87\n",
            "                 vasat       0.72      0.78      0.75        93\n",
            "           zaman_kaybi       0.90      0.93      0.91       112\n",
            "\n",
            "              accuracy                           0.82       477\n",
            "             macro avg       0.81      0.81      0.81       477\n",
            "          weighted avg       0.82      0.82      0.82       477\n",
            "\n"
          ]
        }
      ]
    },
    {
      "cell_type": "code",
      "source": [
        "unlabeled_df = pd.read_csv(\"/content/processed_turkish_movie_review_dataset.csv\")"
      ],
      "metadata": {
        "id": "nwv47fh5HNDd"
      },
      "execution_count": 19,
      "outputs": []
    },
    {
      "cell_type": "code",
      "source": [
        "unlabeled_df.head()"
      ],
      "metadata": {
        "colab": {
          "base_uri": "https://localhost:8080/",
          "height": 206
        },
        "id": "8Y3bwFcGIiH6",
        "outputId": "b3c209c6-5c23-4fe3-b560-98b6fd8a55b1"
      },
      "execution_count": 20,
      "outputs": [
        {
          "output_type": "execute_result",
          "data": {
            "text/plain": [
              "       film_name point                                            comment\n",
              "0  Sevginin Gücü   5,0  jean reno denince zaten leon filmi gelir akla ...\n",
              "1  Sevginin Gücü   5,0  ekşın falan izlemek istiyorsanız eğer bunu izl...\n",
              "2  Sevginin Gücü   5,0  bu yapım hakkında oyle çok şey yazabilirim ki ...\n",
              "3  Sevginin Gücü   5,0  finali yeter... sting shape of my heartbazılar...\n",
              "4  Sevginin Gücü   5,0  jean reno..bu adam kusursuz biri..ve oyunculug..."
            ],
            "text/html": [
              "\n",
              "  <div id=\"df-9355d1ba-0894-4d4b-afd8-17a977531c23\" class=\"colab-df-container\">\n",
              "    <div>\n",
              "<style scoped>\n",
              "    .dataframe tbody tr th:only-of-type {\n",
              "        vertical-align: middle;\n",
              "    }\n",
              "\n",
              "    .dataframe tbody tr th {\n",
              "        vertical-align: top;\n",
              "    }\n",
              "\n",
              "    .dataframe thead th {\n",
              "        text-align: right;\n",
              "    }\n",
              "</style>\n",
              "<table border=\"1\" class=\"dataframe\">\n",
              "  <thead>\n",
              "    <tr style=\"text-align: right;\">\n",
              "      <th></th>\n",
              "      <th>film_name</th>\n",
              "      <th>point</th>\n",
              "      <th>comment</th>\n",
              "    </tr>\n",
              "  </thead>\n",
              "  <tbody>\n",
              "    <tr>\n",
              "      <th>0</th>\n",
              "      <td>Sevginin Gücü</td>\n",
              "      <td>5,0</td>\n",
              "      <td>jean reno denince zaten leon filmi gelir akla ...</td>\n",
              "    </tr>\n",
              "    <tr>\n",
              "      <th>1</th>\n",
              "      <td>Sevginin Gücü</td>\n",
              "      <td>5,0</td>\n",
              "      <td>ekşın falan izlemek istiyorsanız eğer bunu izl...</td>\n",
              "    </tr>\n",
              "    <tr>\n",
              "      <th>2</th>\n",
              "      <td>Sevginin Gücü</td>\n",
              "      <td>5,0</td>\n",
              "      <td>bu yapım hakkında oyle çok şey yazabilirim ki ...</td>\n",
              "    </tr>\n",
              "    <tr>\n",
              "      <th>3</th>\n",
              "      <td>Sevginin Gücü</td>\n",
              "      <td>5,0</td>\n",
              "      <td>finali yeter... sting shape of my heartbazılar...</td>\n",
              "    </tr>\n",
              "    <tr>\n",
              "      <th>4</th>\n",
              "      <td>Sevginin Gücü</td>\n",
              "      <td>5,0</td>\n",
              "      <td>jean reno..bu adam kusursuz biri..ve oyunculug...</td>\n",
              "    </tr>\n",
              "  </tbody>\n",
              "</table>\n",
              "</div>\n",
              "    <div class=\"colab-df-buttons\">\n",
              "\n",
              "  <div class=\"colab-df-container\">\n",
              "    <button class=\"colab-df-convert\" onclick=\"convertToInteractive('df-9355d1ba-0894-4d4b-afd8-17a977531c23')\"\n",
              "            title=\"Convert this dataframe to an interactive table.\"\n",
              "            style=\"display:none;\">\n",
              "\n",
              "  <svg xmlns=\"http://www.w3.org/2000/svg\" height=\"24px\" viewBox=\"0 -960 960 960\">\n",
              "    <path d=\"M120-120v-720h720v720H120Zm60-500h600v-160H180v160Zm220 220h160v-160H400v160Zm0 220h160v-160H400v160ZM180-400h160v-160H180v160Zm440 0h160v-160H620v160ZM180-180h160v-160H180v160Zm440 0h160v-160H620v160Z\"/>\n",
              "  </svg>\n",
              "    </button>\n",
              "\n",
              "  <style>\n",
              "    .colab-df-container {\n",
              "      display:flex;\n",
              "      gap: 12px;\n",
              "    }\n",
              "\n",
              "    .colab-df-convert {\n",
              "      background-color: #E8F0FE;\n",
              "      border: none;\n",
              "      border-radius: 50%;\n",
              "      cursor: pointer;\n",
              "      display: none;\n",
              "      fill: #1967D2;\n",
              "      height: 32px;\n",
              "      padding: 0 0 0 0;\n",
              "      width: 32px;\n",
              "    }\n",
              "\n",
              "    .colab-df-convert:hover {\n",
              "      background-color: #E2EBFA;\n",
              "      box-shadow: 0px 1px 2px rgba(60, 64, 67, 0.3), 0px 1px 3px 1px rgba(60, 64, 67, 0.15);\n",
              "      fill: #174EA6;\n",
              "    }\n",
              "\n",
              "    .colab-df-buttons div {\n",
              "      margin-bottom: 4px;\n",
              "    }\n",
              "\n",
              "    [theme=dark] .colab-df-convert {\n",
              "      background-color: #3B4455;\n",
              "      fill: #D2E3FC;\n",
              "    }\n",
              "\n",
              "    [theme=dark] .colab-df-convert:hover {\n",
              "      background-color: #434B5C;\n",
              "      box-shadow: 0px 1px 3px 1px rgba(0, 0, 0, 0.15);\n",
              "      filter: drop-shadow(0px 1px 2px rgba(0, 0, 0, 0.3));\n",
              "      fill: #FFFFFF;\n",
              "    }\n",
              "  </style>\n",
              "\n",
              "    <script>\n",
              "      const buttonEl =\n",
              "        document.querySelector('#df-9355d1ba-0894-4d4b-afd8-17a977531c23 button.colab-df-convert');\n",
              "      buttonEl.style.display =\n",
              "        google.colab.kernel.accessAllowed ? 'block' : 'none';\n",
              "\n",
              "      async function convertToInteractive(key) {\n",
              "        const element = document.querySelector('#df-9355d1ba-0894-4d4b-afd8-17a977531c23');\n",
              "        const dataTable =\n",
              "          await google.colab.kernel.invokeFunction('convertToInteractive',\n",
              "                                                    [key], {});\n",
              "        if (!dataTable) return;\n",
              "\n",
              "        const docLinkHtml = 'Like what you see? Visit the ' +\n",
              "          '<a target=\"_blank\" href=https://colab.research.google.com/notebooks/data_table.ipynb>data table notebook</a>'\n",
              "          + ' to learn more about interactive tables.';\n",
              "        element.innerHTML = '';\n",
              "        dataTable['output_type'] = 'display_data';\n",
              "        await google.colab.output.renderOutput(dataTable, element);\n",
              "        const docLink = document.createElement('div');\n",
              "        docLink.innerHTML = docLinkHtml;\n",
              "        element.appendChild(docLink);\n",
              "      }\n",
              "    </script>\n",
              "  </div>\n",
              "\n",
              "\n",
              "    <div id=\"df-e4696add-580e-4044-a64a-426bdcbf8ff5\">\n",
              "      <button class=\"colab-df-quickchart\" onclick=\"quickchart('df-e4696add-580e-4044-a64a-426bdcbf8ff5')\"\n",
              "                title=\"Suggest charts\"\n",
              "                style=\"display:none;\">\n",
              "\n",
              "<svg xmlns=\"http://www.w3.org/2000/svg\" height=\"24px\"viewBox=\"0 0 24 24\"\n",
              "     width=\"24px\">\n",
              "    <g>\n",
              "        <path d=\"M19 3H5c-1.1 0-2 .9-2 2v14c0 1.1.9 2 2 2h14c1.1 0 2-.9 2-2V5c0-1.1-.9-2-2-2zM9 17H7v-7h2v7zm4 0h-2V7h2v10zm4 0h-2v-4h2v4z\"/>\n",
              "    </g>\n",
              "</svg>\n",
              "      </button>\n",
              "\n",
              "<style>\n",
              "  .colab-df-quickchart {\n",
              "      --bg-color: #E8F0FE;\n",
              "      --fill-color: #1967D2;\n",
              "      --hover-bg-color: #E2EBFA;\n",
              "      --hover-fill-color: #174EA6;\n",
              "      --disabled-fill-color: #AAA;\n",
              "      --disabled-bg-color: #DDD;\n",
              "  }\n",
              "\n",
              "  [theme=dark] .colab-df-quickchart {\n",
              "      --bg-color: #3B4455;\n",
              "      --fill-color: #D2E3FC;\n",
              "      --hover-bg-color: #434B5C;\n",
              "      --hover-fill-color: #FFFFFF;\n",
              "      --disabled-bg-color: #3B4455;\n",
              "      --disabled-fill-color: #666;\n",
              "  }\n",
              "\n",
              "  .colab-df-quickchart {\n",
              "    background-color: var(--bg-color);\n",
              "    border: none;\n",
              "    border-radius: 50%;\n",
              "    cursor: pointer;\n",
              "    display: none;\n",
              "    fill: var(--fill-color);\n",
              "    height: 32px;\n",
              "    padding: 0;\n",
              "    width: 32px;\n",
              "  }\n",
              "\n",
              "  .colab-df-quickchart:hover {\n",
              "    background-color: var(--hover-bg-color);\n",
              "    box-shadow: 0 1px 2px rgba(60, 64, 67, 0.3), 0 1px 3px 1px rgba(60, 64, 67, 0.15);\n",
              "    fill: var(--button-hover-fill-color);\n",
              "  }\n",
              "\n",
              "  .colab-df-quickchart-complete:disabled,\n",
              "  .colab-df-quickchart-complete:disabled:hover {\n",
              "    background-color: var(--disabled-bg-color);\n",
              "    fill: var(--disabled-fill-color);\n",
              "    box-shadow: none;\n",
              "  }\n",
              "\n",
              "  .colab-df-spinner {\n",
              "    border: 2px solid var(--fill-color);\n",
              "    border-color: transparent;\n",
              "    border-bottom-color: var(--fill-color);\n",
              "    animation:\n",
              "      spin 1s steps(1) infinite;\n",
              "  }\n",
              "\n",
              "  @keyframes spin {\n",
              "    0% {\n",
              "      border-color: transparent;\n",
              "      border-bottom-color: var(--fill-color);\n",
              "      border-left-color: var(--fill-color);\n",
              "    }\n",
              "    20% {\n",
              "      border-color: transparent;\n",
              "      border-left-color: var(--fill-color);\n",
              "      border-top-color: var(--fill-color);\n",
              "    }\n",
              "    30% {\n",
              "      border-color: transparent;\n",
              "      border-left-color: var(--fill-color);\n",
              "      border-top-color: var(--fill-color);\n",
              "      border-right-color: var(--fill-color);\n",
              "    }\n",
              "    40% {\n",
              "      border-color: transparent;\n",
              "      border-right-color: var(--fill-color);\n",
              "      border-top-color: var(--fill-color);\n",
              "    }\n",
              "    60% {\n",
              "      border-color: transparent;\n",
              "      border-right-color: var(--fill-color);\n",
              "    }\n",
              "    80% {\n",
              "      border-color: transparent;\n",
              "      border-right-color: var(--fill-color);\n",
              "      border-bottom-color: var(--fill-color);\n",
              "    }\n",
              "    90% {\n",
              "      border-color: transparent;\n",
              "      border-bottom-color: var(--fill-color);\n",
              "    }\n",
              "  }\n",
              "</style>\n",
              "\n",
              "      <script>\n",
              "        async function quickchart(key) {\n",
              "          const quickchartButtonEl =\n",
              "            document.querySelector('#' + key + ' button');\n",
              "          quickchartButtonEl.disabled = true;  // To prevent multiple clicks.\n",
              "          quickchartButtonEl.classList.add('colab-df-spinner');\n",
              "          try {\n",
              "            const charts = await google.colab.kernel.invokeFunction(\n",
              "                'suggestCharts', [key], {});\n",
              "          } catch (error) {\n",
              "            console.error('Error during call to suggestCharts:', error);\n",
              "          }\n",
              "          quickchartButtonEl.classList.remove('colab-df-spinner');\n",
              "          quickchartButtonEl.classList.add('colab-df-quickchart-complete');\n",
              "        }\n",
              "        (() => {\n",
              "          let quickchartButtonEl =\n",
              "            document.querySelector('#df-e4696add-580e-4044-a64a-426bdcbf8ff5 button');\n",
              "          quickchartButtonEl.style.display =\n",
              "            google.colab.kernel.accessAllowed ? 'block' : 'none';\n",
              "        })();\n",
              "      </script>\n",
              "    </div>\n",
              "\n",
              "    </div>\n",
              "  </div>\n"
            ],
            "application/vnd.google.colaboratory.intrinsic+json": {
              "type": "dataframe",
              "variable_name": "unlabeled_df",
              "summary": "{\n  \"name\": \"unlabeled_df\",\n  \"rows\": 83227,\n  \"fields\": [\n    {\n      \"column\": \"film_name\",\n      \"properties\": {\n        \"dtype\": \"category\",\n        \"num_unique_values\": 7722,\n        \"samples\": [\n          \"Gri B\\u00f6lge\",\n          \"H\\u0131zl\\u0131 ve \\u00d6fkeli\",\n          \"Pretty in Pink\"\n        ],\n        \"semantic_type\": \"\",\n        \"description\": \"\"\n      }\n    },\n    {\n      \"column\": \"point\",\n      \"properties\": {\n        \"dtype\": \"category\",\n        \"num_unique_values\": 16,\n        \"samples\": [\n          \"5,0\",\n          \"3,5\",\n          \"3,0\"\n        ],\n        \"semantic_type\": \"\",\n        \"description\": \"\"\n      }\n    },\n    {\n      \"column\": \"comment\",\n      \"properties\": {\n        \"dtype\": \"string\",\n        \"num_unique_values\": 82394,\n        \"samples\": [\n          \"izledi\\u011fim gunu hat\\u0131rl\\u0131yorumda ne diyeyim harika!!\",\n          \"bana gore kesinlikle berbat film karde\\u015fim zaten biz o baz\\u0131 adamlar\\u0131n hayatlar\\u0131n\\u0131 televolelerde molelerde izletiyonuz ki bu yuzden tv izleyemez oldum ne gerek var filme bu i\\u015fler s\\u0131rf para ve imaj i\\u00e7indir bu filme harc\\u0131yaca\\u011fp\\u0131n\\u0131z paralar yerine gidin bir hay\\u0131r kurumuna hay\\u0131r yap\\u0131n daha iyi en az\\u0131ndan bir e\\u011fitim vakf\\u0131na katk\\u0131da bulunsan\\u0131z bari e\\u011fitici bir\\u015fey yapm\\u0131\\u015f olursunuz fakat insan\\u0131 yozla\\u015ft\\u0131rmaktan ba\\u015fka bir \\u015fey yapt\\u0131\\u011f\\u0131n\\u0131z yok, ayr\\u0131ca sanat\\u00e7\\u0131 yap\\u0131c\\u0131 olmas\\u0131 bu milletin baz\\u0131 orf ve adetleri var bunlar\\u0131 ortaya \\u00e7\\u0131karmal\\u0131 ve i\\u015flemeniz gerekirken bat\\u0131l\\u0131la\\u015fma \\u00e7abas\\u0131 i\\u00e7inde bat\\u0131l\\u0131lar\\u0131nda dalga ge\\u00e7ti\\u011fi ve bizi daha \\u00e7ok kullanmak i\\u00e7in ellerinden geleni yapt\\u0131klar\\u0131 donemlerde onlara tuz biber oluyorsunuz helal olsun vallah... yapsan\\u0131za e\\u011fer o kadar iyi yonetmenseniz \\u00e7anakkale mah\\u015ferini bi faydan\\u0131z olsun ama yooo kolmaz kahpe bizans\\u0131 yap\\u0131p kendi kendisiyle dalga ge\\u00e7ecek yak\\u0131\\u015f\\u0131rm\\u0131 atalar\\u0131n\\u0131 ovmek... b\\u0131rak\\u0131n art\\u0131k \\u015fu bat\\u0131l\\u0131\\u015famay\\u0131, onlar\\u0131n bizlerle yar\\u0131\\u015fmas\\u0131na bak\\u0131n ozaman hem siz kazan\\u0131rs\\u0131n\\u0131z hem millet...\",\n          \"fellinin la strada filmini bu kadar ge\\u00e7 bir zamanda izledi\\u011fim i\\u00e7in kendime oylesine k\\u0131zg\\u0131n\\u0131m ki. ger\\u00e7ek bir ba\\u015fyap\\u0131t. anthony quinn ve giulietta masina unutulamayacak bir ikiliyi canland\\u0131rm\\u0131\\u015flar910\"\n        ],\n        \"semantic_type\": \"\",\n        \"description\": \"\"\n      }\n    }\n  ]\n}"
            }
          },
          "metadata": {},
          "execution_count": 20
        }
      ]
    },
    {
      "cell_type": "code",
      "source": [
        "unlabeled_df = unlabeled_df.dropna(subset=[\"comment\"])\n",
        "unlabeled_df = unlabeled_df[unlabeled_df[\"comment\"].str.strip() != \"\"]"
      ],
      "metadata": {
        "id": "Hs8nkPAEJFlm"
      },
      "execution_count": 23,
      "outputs": []
    },
    {
      "cell_type": "code",
      "source": [
        "def tokenize_predict(batch):\n",
        "    return tokenizer(batch[\"comment\"], padding=True, truncation=True, max_length=256)"
      ],
      "metadata": {
        "id": "Y90N7ta4JMa9"
      },
      "execution_count": 24,
      "outputs": []
    },
    {
      "cell_type": "code",
      "source": [
        "to_predict_dataset = Dataset.from_pandas(unlabeled_df)\n",
        "to_predict_dataset = to_predict_dataset.map(tokenize_predict, batched=True)"
      ],
      "metadata": {
        "id": "HT56WaU6Jrhb"
      },
      "execution_count": null,
      "outputs": []
    },
    {
      "cell_type": "code",
      "source": [
        "raw_preds = trainer.predict(to_predict_dataset)\n",
        "predicted_ids = np.argmax(raw_preds.predictions, axis=1)\n",
        "predicted_labels = label_encoder.inverse_transform(predicted_ids)"
      ],
      "metadata": {
        "colab": {
          "base_uri": "https://localhost:8080/",
          "height": 17
        },
        "id": "54_97jyGJ71V",
        "outputId": "5711563b-71a9-4b1b-fc90-1540772a6425"
      },
      "execution_count": 26,
      "outputs": [
        {
          "output_type": "display_data",
          "data": {
            "text/plain": [
              "<IPython.core.display.HTML object>"
            ],
            "text/html": []
          },
          "metadata": {}
        }
      ]
    },
    {
      "cell_type": "code",
      "source": [
        "unlabeled_df['predicted_label'] = predicted_labels\n",
        "unlabeled_df.to_csv(\"etiketlenmis_83k.csv\", index=False)\n",
        "print(\"83K yorum etiketlendi ve kaydedildi → etiketlenmis_83k.csv\")"
      ],
      "metadata": {
        "colab": {
          "base_uri": "https://localhost:8080/"
        },
        "id": "CKc50ah8LX1y",
        "outputId": "0b388500-9d25-47c5-b2e8-112892a466c1"
      },
      "execution_count": 27,
      "outputs": [
        {
          "output_type": "stream",
          "name": "stdout",
          "text": [
            "83K yorum etiketlendi ve kaydedildi → etiketlenmis_83k.csv\n"
          ]
        }
      ]
    },
    {
      "cell_type": "code",
      "source": [
        "duygu_sayilari = unlabeled_df['predicted_label'].value_counts()\n",
        "\n",
        "print(duygu_sayilari)"
      ],
      "metadata": {
        "colab": {
          "base_uri": "https://localhost:8080/"
        },
        "id": "FCGKqAKnLaez",
        "outputId": "b50a2023-91b4-4df9-8938-b1fe3a48cd63"
      },
      "execution_count": 28,
      "outputs": [
        {
          "output_type": "stream",
          "name": "stdout",
          "text": [
            "predicted_label\n",
            "izlemeye_deger            27021\n",
            "basyapit                  21271\n",
            "vasat                     15256\n",
            "zaman_kaybi               11885\n",
            "beklentiyi_karsilamadi     7204\n",
            "Name: count, dtype: int64\n"
          ]
        }
      ]
    },
    {
      "cell_type": "code",
      "source": [
        "from google.colab import files\n",
        "files.download('etiketlenmis_83k.csv')"
      ],
      "metadata": {
        "colab": {
          "base_uri": "https://localhost:8080/",
          "height": 17
        },
        "id": "QKy4O69NLx68",
        "outputId": "41432b7c-7bdb-4888-c3a5-0bb07cfeff05"
      },
      "execution_count": 29,
      "outputs": [
        {
          "output_type": "display_data",
          "data": {
            "text/plain": [
              "<IPython.core.display.Javascript object>"
            ],
            "application/javascript": [
              "\n",
              "    async function download(id, filename, size) {\n",
              "      if (!google.colab.kernel.accessAllowed) {\n",
              "        return;\n",
              "      }\n",
              "      const div = document.createElement('div');\n",
              "      const label = document.createElement('label');\n",
              "      label.textContent = `Downloading \"${filename}\": `;\n",
              "      div.appendChild(label);\n",
              "      const progress = document.createElement('progress');\n",
              "      progress.max = size;\n",
              "      div.appendChild(progress);\n",
              "      document.body.appendChild(div);\n",
              "\n",
              "      const buffers = [];\n",
              "      let downloaded = 0;\n",
              "\n",
              "      const channel = await google.colab.kernel.comms.open(id);\n",
              "      // Send a message to notify the kernel that we're ready.\n",
              "      channel.send({})\n",
              "\n",
              "      for await (const message of channel.messages) {\n",
              "        // Send a message to notify the kernel that we're ready.\n",
              "        channel.send({})\n",
              "        if (message.buffers) {\n",
              "          for (const buffer of message.buffers) {\n",
              "            buffers.push(buffer);\n",
              "            downloaded += buffer.byteLength;\n",
              "            progress.value = downloaded;\n",
              "          }\n",
              "        }\n",
              "      }\n",
              "      const blob = new Blob(buffers, {type: 'application/binary'});\n",
              "      const a = document.createElement('a');\n",
              "      a.href = window.URL.createObjectURL(blob);\n",
              "      a.download = filename;\n",
              "      div.appendChild(a);\n",
              "      a.click();\n",
              "      div.remove();\n",
              "    }\n",
              "  "
            ]
          },
          "metadata": {}
        },
        {
          "output_type": "display_data",
          "data": {
            "text/plain": [
              "<IPython.core.display.Javascript object>"
            ],
            "application/javascript": [
              "download(\"download_86df1782-c4f1-4fc2-a01d-e162d5ebbf24\", \"etiketlenmis_83k.csv\", 30250079)"
            ]
          },
          "metadata": {}
        }
      ]
    }
  ]
}